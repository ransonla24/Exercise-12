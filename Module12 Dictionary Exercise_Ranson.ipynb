{
 "cells": [
  {
   "cell_type": "markdown",
   "metadata": {},
   "source": [
    "### Exercise 1. \n",
    "Create a dictionary named pairs with key value pairs of:\n",
    "    - 'hello' and 'fire', \n",
    "    - 3 and 'seven', \n",
    "    - 'strong' and 45. \n",
    "\n",
    "Then, print out the dictionary."
   ]
  },
  {
   "cell_type": "code",
   "execution_count": 8,
   "metadata": {},
   "outputs": [
    {
     "name": "stdout",
     "output_type": "stream",
     "text": [
      "{'hello': 'fire', -3: 'seven', 'strong': 45}\n"
     ]
    }
   ],
   "source": [
    "pairs = {'hello':'fire',\n",
    "      -3:'seven',\n",
    "      'strong':45}\n",
    "print(pairs)"
   ]
  },
  {
   "cell_type": "markdown",
   "metadata": {},
   "source": [
    "### Exercise 2. \n",
    "Add 'welcome' and 56 pair into <b><i>pairs</i></b> dictionary from exercise 1. Then, print out the dictionary. "
   ]
  },
  {
   "cell_type": "code",
   "execution_count": 9,
   "metadata": {},
   "outputs": [
    {
     "name": "stdout",
     "output_type": "stream",
     "text": [
      "{'hello': 'fire', -3: 'seven', 'strong': 45, 'welcome': 56}\n"
     ]
    }
   ],
   "source": [
    "pairs['welcome'] = 56\n",
    "print(pairs)"
   ]
  },
  {
   "cell_type": "markdown",
   "metadata": {},
   "source": [
    "### Exercise 3. \n",
    "Delete one item from <b><i>pairs</i></b> dictionary. Then, print deleted item and the dictionary."
   ]
  },
  {
   "cell_type": "code",
   "execution_count": 10,
   "metadata": {},
   "outputs": [
    {
     "name": "stdout",
     "output_type": "stream",
     "text": [
      "{-3: 'seven', 'strong': 45, 'welcome': 56}\n"
     ]
    }
   ],
   "source": [
    "pairs.pop('hello')\n",
    "\n",
    "print(pairs)\n",
    "\n",
    "# not sure how to print the deleted item once it's gone"
   ]
  },
  {
   "cell_type": "markdown",
   "metadata": {},
   "source": [
    "### Exercise 4. \n",
    "Print the value of an item where key is 3 in <b><i>pairs</i></b> dicitonary"
   ]
  },
  {
   "cell_type": "code",
   "execution_count": 15,
   "metadata": {},
   "outputs": [
    {
     "name": "stdout",
     "output_type": "stream",
     "text": [
      "dict_values(['seven', 45, 56])\n"
     ]
    }
   ],
   "source": [
    "# what is this saying?\n",
    "\n",
    "print(pairs.values())"
   ]
  },
  {
   "cell_type": "markdown",
   "metadata": {},
   "source": [
    "### Exercise 5. \n",
    "Try to find out if the key called 'hello' exist in <b><i>pairs</i></b> dictionary. Print 'key is found' message if the key exists otherwise print 'key is not there'."
   ]
  },
  {
   "cell_type": "code",
   "execution_count": 18,
   "metadata": {},
   "outputs": [
    {
     "name": "stdout",
     "output_type": "stream",
     "text": [
      "key is not there.\n"
     ]
    }
   ],
   "source": [
    "for key in pairs :\n",
    "    if key == 'hello' : \n",
    "        print(\"key is found.\")\n",
    "else : \n",
    "    print(\"key is not there.\")"
   ]
  },
  {
   "cell_type": "markdown",
   "metadata": {},
   "source": [
    "### Exercise 6. \n",
    "Create a Test Scores program that gets the name of students and test score from a user. Then, generate a list of students who passed and a list of students who failed where passing test score is 60 or above. "
   ]
  },
  {
   "cell_type": "code",
   "execution_count": 40,
   "metadata": {},
   "outputs": [],
   "source": [
    "def TestScores() :\n",
    "    scores_and_names = {}\n",
    "    while True : # not sure how to get this to work \n",
    "        student_name = input(\"Student's name: \")\n",
    "        scores_and_names[student_name] = int(input(\"Test score: \"))\n",
    "        response = input(\"Would you like to enter additional test scores? (y/n)\").lower \n",
    "        if response == 'y' : \n",
    "            continue \n",
    "        else : \n",
    "            break \n",
    "    passing_students = []\n",
    "    failing_students = []\n",
    "    for key, value in scores_and_names.items() :  \n",
    "        if key in scores_and_names : \n",
    "            if value >= 60 : \n",
    "                passing_students.append(key)\n",
    "        else : \n",
    "            failing_students.append(key)\n",
    "    print(f\"Passing student list : {passing_students} \\nFailing student list: {failing_students}\")\n",
    "    "
   ]
  },
  {
   "cell_type": "code",
   "execution_count": 39,
   "metadata": {},
   "outputs": [
    {
     "name": "stdin",
     "output_type": "stream",
     "text": [
      "Student's name:  mia\n",
      "Test score:  98\n",
      "Would you like to enter additional test scores? (y/n) n\n"
     ]
    },
    {
     "name": "stdout",
     "output_type": "stream",
     "text": [
      "Passing student list : ['mia'] \n",
      "Failing student list: []\n"
     ]
    }
   ],
   "source": [
    "TestScores()"
   ]
  },
  {
   "cell_type": "markdown",
   "metadata": {},
   "source": [
    "# TestScores()"
   ]
  },
  {
   "cell_type": "markdown",
   "metadata": {},
   "source": [
    "### Exercise 7. \n",
    "\n",
    "Create a Word Counter program that gets a string of text from a user and then counts the number of times a word occrs in the string. \n",
    "\n",
    "The output should look something like this:\n",
    "\n",
    "    The Word Counter Program\n",
    "    \n",
    "    Enter a text string: \n",
    "    Humpty Dumpty sat on a wall, Humpty Dumpty had a great fall. All the king’s horses and all the king’s men couldn’t put Humpty together again.\n",
    "\n",
    "    a : 2\n",
    "    again : 1\n",
    "    all : 2\n",
    "    and : 1\n",
    "    couldn’t : 1\n",
    "    dumpty : 2\n",
    "    fall : 1\n",
    "    great : 1\n",
    "    had : 1\n",
    "    horses : 1\n",
    "    humpty : 3\n",
    "    king’s : 2\n",
    "    men : 1\n",
    "    on : 1\n",
    "    put : 1\n",
    "    sat : 1\n",
    "    the : 2\n",
    "    together : 1\n",
    "    wall : 1\n",
    "\n",
    "    There were total 26 words in the text string   "
   ]
  },
  {
   "cell_type": "code",
   "execution_count": 18,
   "metadata": {},
   "outputs": [],
   "source": [
    "def wordcounter() : \n",
    "    string = input(\"Enter a text string: \")\n",
    "    print()\n",
    "    print(string)\n",
    "    print()\n",
    "    string_split = string.split()\n",
    "\n",
    "    dictionary = {}\n",
    "\n",
    "    for char in string_split : \n",
    "        count = string_split.count(char)\n",
    "        dictionary[char] = count\n",
    "        print(f\"{char} : {count}\")\n",
    "\n",
    "    countsum = len(string_split)\n",
    "    print()\n",
    "    print(f\"There were a total of {countsum} words in the text string.\")\n",
    "        \n",
    "        "
   ]
  },
  {
   "cell_type": "code",
   "execution_count": 19,
   "metadata": {},
   "outputs": [
    {
     "name": "stdin",
     "output_type": "stream",
     "text": [
      "Enter a text string:  my dog's name is the same as many other dog's names in the world\n"
     ]
    },
    {
     "name": "stdout",
     "output_type": "stream",
     "text": [
      "\n",
      "my dog's name is the same as many other dog's names in the world\n",
      "\n",
      "my : 1\n",
      "dog's : 2\n",
      "name : 1\n",
      "is : 1\n",
      "the : 2\n",
      "same : 1\n",
      "as : 1\n",
      "many : 1\n",
      "other : 1\n",
      "dog's : 2\n",
      "names : 1\n",
      "in : 1\n",
      "the : 2\n",
      "world : 1\n",
      "\n",
      "There were a total of 14 words in the text string.\n"
     ]
    }
   ],
   "source": [
    "wordcounter()"
   ]
  },
  {
   "cell_type": "code",
   "execution_count": null,
   "metadata": {},
   "outputs": [],
   "source": []
  }
 ],
 "metadata": {
  "kernelspec": {
   "display_name": "Python 3 (ipykernel)",
   "language": "python",
   "name": "python3"
  },
  "language_info": {
   "codemirror_mode": {
    "name": "ipython",
    "version": 3
   },
   "file_extension": ".py",
   "mimetype": "text/x-python",
   "name": "python",
   "nbconvert_exporter": "python",
   "pygments_lexer": "ipython3",
   "version": "3.11.7"
  }
 },
 "nbformat": 4,
 "nbformat_minor": 4
}
